{
  "cells": [
    {
      "cell_type": "markdown",
      "id": "6c02d853",
      "metadata": {
        "id": "6c02d853"
      },
      "source": [
        "# Hangman Game"
      ]
    },
    {
      "cell_type": "markdown",
      "id": "c15ada68",
      "metadata": {
        "id": "c15ada68"
      },
      "source": [
        "### In this project I am going to create Hangman Game using python"
      ]
    },
    {
      "cell_type": "markdown",
      "id": "83124fbb",
      "metadata": {
        "id": "83124fbb"
      },
      "source": [
        "#### Q. What is the hangman game?\n",
        "\n",
        "\n",
        "Hangman is a guessing game. The player will tries to guess a word picked by the computer, by suggesting letters within a certain number of guesses"
      ]
    },
    {
      "cell_type": "markdown",
      "id": "09ad41dc",
      "metadata": {
        "id": "09ad41dc"
      },
      "source": [
        "### Objective 1\n",
        "Create a function __is_word_guessed__ that takes in two arguments :-  \n",
        "__secret_word, letters_guessed__  \n",
        "__returns True__ if all of the letter of secret_word are in letters_guessed, __returns False__ if not  \n",
        "\n",
        "\n",
        "\n",
        "#### Assumptions\n",
        "__secret_word__: string, the word the user is guessing; assumes all letters are lowercase\n",
        "__letters_guessed__: list (of letters), which letters have been guessed so far; assumes that all letters are lowercase\n",
        "\n",
        "\n",
        "__Example__:-  \n",
        "secret_word = 'apple'  \n",
        "letters_guessed = ['e', 'a', 'k', 'p', 'l', 's']  \n",
        "is_word_guessed() will return True.  \n",
        "  \n",
        "  \n",
        "secret_word = 'apple'  \n",
        "letters_guessed = ['e', 'i', 'k', 'p', 'r', 's']  \n",
        "is_word_guessed() will return False.  "
      ]
    },
    {
      "cell_type": "code",
      "execution_count": 1,
      "id": "3f4c9483",
      "metadata": {
        "id": "3f4c9483"
      },
      "outputs": [],
      "source": [
        "def is_word_guessed(secret_word, letters_guessed):\n",
        "    # Initialize a temporary variable to check if all letters are guessed\n",
        "    temp = 0\n",
        "    # Iterate through each letter in the secret word\n",
        "    for word in secret_word:\n",
        "        # Check if the letter is not in the list of guessed letters\n",
        "        if word not in letters_guessed:\n",
        "            temp = -1\n",
        "            break\n",
        "    if temp == 0:\n",
        "        return True\n",
        "    else:\n",
        "        return False"
      ]
    },
    {
      "cell_type": "markdown",
      "id": "6bc56ae5",
      "metadata": {
        "id": "6bc56ae5"
      },
      "source": [
        "### Objective 2\n",
        "Create a function __get_guessed_word__ that takes in two arguments :-  \n",
        "__secret_word, letters_guessed___\n",
        "__returns__ string, comprised of known letters, and unknown letters represented by an underscore and a space (_ )  \n",
        "\n",
        "\n",
        "#### Assumptions  \n",
        "__secret_word__: string, the word the user is guessing;  \n",
        "__letters_guessed__: list (of letters), which letters have been guessed so far  \n",
        "\n",
        "__Example__:-  \n",
        "__secret_word__ = 'apple'  \n",
        "__letters_guessed__ = ['e', 'i', 'k', 'p', 'r', 's']  \n",
        "get_guessed_word() will return '_ pp_ e'  \n",
        "You want something like a_ _ _ d_ j and Not a___d_j,  \n",
        "which might make it hard for the user to know how many characters are there to be\n",
        "guessed,  \n",
        "that's why you want to use '_ ' instead of '_'  "
      ]
    },
    {
      "cell_type": "code",
      "source": [
        "def get_guessed_word(secret_word, letters_guessed):\n",
        "    guessed_word = ''\n",
        "    for letter in secret_word:\n",
        "        if letter in letters_guessed:\n",
        "            guessed_word += letter + \" \"\n",
        "        else:\n",
        "            guessed_word += '_ '\n",
        "    return guessed_word.strip()"
      ],
      "metadata": {
        "id": "khj-98xpCIQN"
      },
      "id": "khj-98xpCIQN",
      "execution_count": 9,
      "outputs": []
    },
    {
      "cell_type": "code",
      "source": [
        "import random\n",
        "import string"
      ],
      "metadata": {
        "id": "IAERaGYyCVLH"
      },
      "id": "IAERaGYyCVLH",
      "execution_count": 3,
      "outputs": []
    },
    {
      "cell_type": "code",
      "execution_count": 10,
      "id": "704e6f46",
      "metadata": {
        "id": "704e6f46"
      },
      "outputs": [],
      "source": [
        "'''import random\n",
        "import string\n",
        "\n",
        "def get_guessed_word(secret_word, letters_guessed):\n",
        "  for word in secret_word:\n",
        "    if word not in letters_guessed:\n",
        "      secret_word = secret_word.replace(word,\"_ \")\n",
        "      return secret_word\n",
        "    # Initialize an empty string to store the guessed word\n",
        "\n",
        "    # Iterate through each character in the secret word\n",
        "            # Iterate through each character in the letter guessed\n",
        "\n",
        "            # If the character is guessed, append it to the guessed word\n",
        "            # If the character is not guessed, append an underscore and a space\n",
        "    # return guessed_word'''"
      ]
    },
    {
      "cell_type": "markdown",
      "id": "5581fc43",
      "metadata": {
        "id": "5581fc43"
      },
      "source": [
        "### Objective 3\n",
        "Create a function get_available_letter that takes in one arguments  \n",
        "__letters_guessed__  \n",
        "__returns__ string (of letters), comprised of letters that represents which letters have not yet been guessed.  \n",
        "#### Assumptions\n",
        "__letters_guessed__: list (of letters), which letters have been guessed so far;\n",
        "\n",
        "__Example__:-  \n",
        "__letters_guessed__ = [’a’, ’l’, ’m’]  \n",
        "get_available_letter() will return 'bcdefghijknopqrstuvwxyz'  \n",
        "\n",
        "You might want to consider using string.ascii_lowercase :=  \n",
        "import string  \n",
        "print(string.ascii_lowercase)  \n",
        "output:- abcdefghijklmnopqrstuvwxyz  "
      ]
    },
    {
      "cell_type": "code",
      "execution_count": 4,
      "id": "0a33aa2a",
      "metadata": {
        "id": "0a33aa2a"
      },
      "outputs": [],
      "source": [
        "def get_available_letters(letters_guessed):\n",
        "    '''\n",
        "    Get available letters that have not yet been guessed.\n",
        "\n",
        "    Parameters:\n",
        "    letters_guessed (list): List of letters that have been guessed so far.\n",
        "\n",
        "    Returns:\n",
        "    str: A string containing letters that have not been guessed.\n",
        "    '''\n",
        "    # Initialize available_letters with the entire alphabet\n",
        "    available_letters = string.ascii_lowercase\n",
        "    # Iterate through each letter that has been guessed\n",
        "    for letter in letters_guessed:\n",
        "      available_letters = available_letters.replace(letter,\"\")\n",
        "    # Remove the guessed letter from available_letters\n",
        "        # Replace the guessed letter with an empty string in available_letters\n",
        "    return (available_letters)\n",
        "    # Return the updated available_letters string"
      ]
    },
    {
      "cell_type": "markdown",
      "id": "862d9652",
      "metadata": {
        "id": "862d9652"
      },
      "source": [
        "## Now, We have created all of the Helper functions, now let's start our work on the actual Hangman Game  \n",
        "\n",
        "\n",
        "# Hangman Game  \n",
        "\n",
        "Create a function __hangman__ that takes in one argument  \n",
        "__secret_word__ :- string, the secret word to guess.  \n",
        "\n",
        "__The function should do the following__:-  \n",
        "Starts up an interactive game of Hangman.\n",
        "- At the start of the game, let the user know how many letters the secret_word contains and how many guesses s/he starts with.\n",
        "- The user should start with 6 guesses\n",
        "- Before each round, you should display to the user how many guesses s/he has left and the letters that the user has not yet guessed.\n",
        "- Ask the user to supply one guess per round. Remember to make sure that the user puts in a letter!\n",
        "- The user should receive feedback immediately after each guess about whether their guess appears in the computer's word.\n",
        "- After each guess, you should display to the user the partially guessed word so far.\n",
        "- If the user inputs a letter that hasn’t been guessed before and the letter is in the secret word, the user loses no guesses.\n",
        "- Consonants: If the user inputs a consonant that hasn’t been guessed and the consonant is not in the secret word, the user loses one guess if it’s a consonant.\n",
        "- Vowels: If the vowel hasn’t been guessed and the vowel is not in the secret word, the user loses two guesses. Vowels are a, e, i, o, and u. y does not count as a vowel.\n",
        "- The game should end when the user constructs the full word or runs out of guesses.\n",
        "- If the player runs out of guesses before completing the word, tell them they lost and reveal the word to the user when the game ends.\n",
        "- If the user wins, print a congratulatory message and tell the user their score.\n",
        "- The total score is the number of guesses_remaining once the user has guessed the secret_word times the number of unique letters in secret_word.  \n",
        "\n",
        "<p style=\"text-align:center;\">Total score = guesses_remaining * number unique letters in secret_word</p>\n"
      ]
    },
    {
      "cell_type": "code",
      "execution_count": 10,
      "id": "e0b3c743",
      "metadata": {
        "id": "e0b3c743"
      },
      "outputs": [],
      "source": [
        "#Game code\n",
        "\n",
        "def no_of_unique_words(string):\n",
        "  list = []\n",
        "  c = 0\n",
        "  for s in string:\n",
        "      if s not in list:\n",
        "       c += 1\n",
        "      list.append(s)\n",
        "  return c\n",
        "\n",
        "def hangman(secret_word):\n",
        "    no_of_guess = 6\n",
        "    letters_guessed = []\n",
        "    total_score = 0\n",
        "\n",
        "    print (\"Welcome to Hangman\")\n",
        "    print (f\"I am thinking of a word that is {len(secret_word)} letters long\")\n",
        "    print (\"----------------------------------------------------\")\n",
        "\n",
        "\n",
        "\n",
        "    import random\n",
        "    initial_hint = random.choice(secret_word)\n",
        "    letters_guessed.append(initial_hint)\n",
        "    print(f\"\\nHere's a hint! The word contains the letter: '{initial_hint}'\")\n",
        "\n",
        "\n",
        "    while True:\n",
        "      if (no_of_guess <=0 and is_word_guessed(secret_word, letters_guessed) == False) or is_word_guessed(secret_word, letters_guessed): #last step, either the word is guessed or attempts are exhausted\n",
        "\n",
        "        if(is_word_guessed(secret_word,letters_guessed)):\n",
        "          total_score= no_of_guess * no_of_unique_words(secret_word)\n",
        "          print(\"Congratulations, you figured it out. You won\")\n",
        "          print(f\"Your total score for this game is: {total_score}\")\n",
        "        elif no_of_guess == 0 and is_word_guessed(secret_word,letters_guessed) == False:\n",
        "          print(f\"Sorry, you ran out of guesses. The word was {secret_word}\")\n",
        "\n",
        "      else:\n",
        "        available_letter= get_available_letters(letters_guessed)\n",
        "        print(f\"You have {no_of_guess} guesses left\")\n",
        "        print(f\"Available letters: {available_letter}\")\n",
        "\n",
        "        letter_guessed= input(\"Please guess a letter: \")\n",
        "\n",
        "        if(letter_guessed.isalpha()== False):\n",
        "          print(\"That is not a valid letter. Please try again\")\n",
        "          print(\"------------------------------\")\n",
        "          continue\n",
        "        elif(letter_guessed in letters_guessed):\n",
        "          print(\"You have already guessed that letter\")\n",
        "          print(\"------------------------------\")\n",
        "          continue\n",
        "\n",
        "        letter_guessed= letter_guessed.lower()\n",
        "        letters_guessed.append(letter_guessed)\n",
        "\n",
        "        if letter_guessed in secret_word:\n",
        "          print(f\"Good guess: {get_guessed_word(secret_word, letters_guessed)}\")\n",
        "        elif letter_guessed in ['a','e','i','o','u']:\n",
        "          print(f\"Oops! That letter is not in my word: {get_guessed_word(secret_word, letters_guessed)}\")\n",
        "          no_of_guess -= 2\n",
        "        else:\n",
        "          print(f\"Oops! That letter is not in my word: {get_guessed_word(secret_word, letters_guessed)}\")\n",
        "          no_of_guess -= 1\n",
        "        print(\"------------------------------\")\n",
        "        continue\n",
        "      break"
      ]
    },
    {
      "cell_type": "code",
      "source": [
        "hangman(\"siddhant\")"
      ],
      "metadata": {
        "colab": {
          "base_uri": "https://localhost:8080/"
        },
        "id": "BgjDmM4A84Bw",
        "outputId": "b6bd9a65-6e22-4921-f187-b404914da691"
      },
      "id": "BgjDmM4A84Bw",
      "execution_count": 11,
      "outputs": [
        {
          "output_type": "stream",
          "name": "stdout",
          "text": [
            "Welcome to Hangman\n",
            "I am thinking of a word that is 8 letters long\n",
            "----------------------------------------------------\n",
            "\n",
            "Here's a hint! The word contains the letter: 'a'\n",
            "You have 6 guesses left\n",
            "Available letters: bcdefghijklmnopqrstuvwxyz\n",
            "Please guess a letter: s\n",
            "Good guess: s _ _ _ _ a _ _\n",
            "------------------------------\n",
            "You have 6 guesses left\n",
            "Available letters: bcdefghijklmnopqrtuvwxyz\n",
            "Please guess a letter: t\n",
            "Good guess: s _ _ _ _ a _ t\n",
            "------------------------------\n",
            "You have 6 guesses left\n",
            "Available letters: bcdefghijklmnopqruvwxyz\n",
            "Please guess a letter: d\n",
            "Good guess: s _ d d _ a _ t\n",
            "------------------------------\n",
            "You have 6 guesses left\n",
            "Available letters: bcefghijklmnopqruvwxyz\n",
            "Please guess a letter: h\n",
            "Good guess: s _ d d h a _ t\n",
            "------------------------------\n",
            "You have 6 guesses left\n",
            "Available letters: bcefgijklmnopqruvwxyz\n",
            "Please guess a letter: n\n",
            "Good guess: s _ d d h a n t\n",
            "------------------------------\n",
            "You have 6 guesses left\n",
            "Available letters: bcefgijklmopqruvwxyz\n",
            "Please guess a letter: i\n",
            "Good guess: s i d d h a n t\n",
            "------------------------------\n",
            "Congratulations, you figured it out. You won\n",
            "Your total score for this game is: 42\n"
          ]
        }
      ]
    },
    {
      "cell_type": "code",
      "source": [
        "#Let's do for a list where it will select the random words\n",
        "\n",
        "words = [\n",
        "    # Easy\n",
        "    \"apple\", \"house\", \"cat\", \"book\", \"tree\", \"chair\", \"smile\", \"plane\", \"star\", \"water\",\n",
        "    # Medium\n",
        "    \"bicycle\", \"airport\", \"castle\", \"garden\", \"summer\", \"monkey\", \"window\", \"camera\", \"coffee\", \"orange\",\n",
        "    # Hard\n",
        "    \"labyrinth\", \"jazz\", \"oxygen\", \"puzzle\", \"quizzical\", \"xylophone\", \"whisper\", \"awkward\", \"bouquet\", \"zephyr\"\n",
        "]\n",
        "\n",
        "random_word = random.choice(words)\n",
        "hangman(random_word)"
      ],
      "metadata": {
        "colab": {
          "base_uri": "https://localhost:8080/"
        },
        "id": "MHSi4gkqKW5g",
        "outputId": "954984f9-b6b5-4387-f461-2e216781133b"
      },
      "id": "MHSi4gkqKW5g",
      "execution_count": 12,
      "outputs": [
        {
          "output_type": "stream",
          "name": "stdout",
          "text": [
            "Welcome to Hangman\n",
            "I am thinking of a word that is 5 letters long\n",
            "----------------------------------------------------\n",
            "\n",
            "Here's a hint! The word contains the letter: 'a'\n",
            "You have 6 guesses left\n",
            "Available letters: bcdefghijklmnopqrstuvwxyz\n",
            "Please guess a letter: a\n",
            "You have already guessed that letter\n",
            "------------------------------\n",
            "You have 6 guesses left\n",
            "Available letters: bcdefghijklmnopqrstuvwxyz\n",
            "Please guess a letter: i\n",
            "Oops! That letter is not in my word: _ a _ _ _\n",
            "------------------------------\n",
            "You have 4 guesses left\n",
            "Available letters: bcdefghjklmnopqrstuvwxyz\n",
            "Please guess a letter: w\n",
            "Good guess: w a _ _ _\n",
            "------------------------------\n",
            "You have 4 guesses left\n",
            "Available letters: bcdefghjklmnopqrstuvxyz\n",
            "Please guess a letter: t\n",
            "Good guess: w a t _ _\n",
            "------------------------------\n",
            "You have 4 guesses left\n",
            "Available letters: bcdefghjklmnopqrsuvxyz\n",
            "Please guess a letter: er\n",
            "Good guess: w a t _ _\n",
            "------------------------------\n",
            "You have 4 guesses left\n",
            "Available letters: bcdefghjklmnopqrsuvxyz\n",
            "Please guess a letter: e\n",
            "Good guess: w a t e _\n",
            "------------------------------\n",
            "You have 4 guesses left\n",
            "Available letters: bcdfghjklmnopqrsuvxyz\n",
            "Please guess a letter: r\n",
            "Good guess: w a t e r\n",
            "------------------------------\n",
            "Congratulations, you figured it out. You won\n",
            "Your total score for this game is: 20\n"
          ]
        }
      ]
    },
    {
      "cell_type": "code",
      "execution_count": 17,
      "id": "0295f68a",
      "metadata": {
        "id": "0295f68a"
      },
      "outputs": [],
      "source": [
        "'''My reference:\n",
        "\n",
        "# Import the random module to generate random choices\n",
        "# Import the string module for working with string constants\n",
        "\n",
        "# List of words to choose from\n",
        "\n",
        "# Choose a random word from the word list\n",
        "\n",
        "# Choose a random word from the word list\n",
        "\n",
        "# Initialize variables\n",
        "# List to store guessed letters\n",
        "# Number of allowed incorrect guesses\n",
        "# String containing vowels\n",
        "\n",
        "# Display a welcome message\n",
        "# Display the length of the secret word\n",
        "\n",
        "# Start an infinite loop for the game\n",
        "# Display the number of remaining guesses\n",
        "# Display available letters\n",
        "# Display the current state of the word\n",
        "\n",
        "# Prompt the user for a letter and convert it to lowercase\n",
        "# Check if the input is a valid single letter\n",
        "# Check if the letter has already been guessed\n",
        "# Add the guessed letter to the list\n",
        "# Check if the guessed letter is in the secret word\n",
        "# Display a success message\n",
        "# Display a failure message\n",
        "# Check if the incorrect guess is a vowel\n",
        "# Deduct two guesses\n",
        "# Deduct one guess\n",
        "# Check if the player has run out of guesses\n",
        "# Display the secret word\n",
        "# End the game\n",
        "# Check if there are no more underscores in the guessed word\n",
        "# Display success message\n",
        "# Calculate the score\n",
        "# Display the player's score\n",
        "# End the game\n",
        "\n",
        "# Start the Hangman game if the script is run as the main program\n",
        "'''"
      ]
    },
    {
      "cell_type": "markdown",
      "source": [
        "**Examples like how game should work**"
      ],
      "metadata": {
        "id": "sV5nsmVJKJS7"
      },
      "id": "sV5nsmVJKJS7"
    },
    {
      "cell_type": "markdown",
      "id": "1a980dca",
      "metadata": {
        "id": "1a980dca"
      },
      "source": [
        "# Demo Game 1"
      ]
    },
    {
      "cell_type": "markdown",
      "id": "58d73ecb",
      "metadata": {
        "id": "58d73ecb"
      },
      "source": [
        "# Hangman Game\n",
        "\n",
        "Welcome to Hangman!\n",
        "The word has 6 letters.\n",
        "\n",
        "**Guesses remaining:** 6  \n",
        "**Available letters:** abcdefghijklmnopqrstuvwxyz  \n",
        "**Word:** \\_ \\_ \\_ \\_ \\_ \\_\n",
        "\n",
        "**Guess a letter:** u  \n",
        "Incorrect guess.\n",
        "\n",
        "**Guesses remaining:** 4  \n",
        "**Available letters:** abcdefghijklmnopqrstvwxyz  \n",
        "**Word:** \\_ \\_ \\_ \\_ \\_ \\_\n",
        "\n",
        "**Guess a letter:** a  \n",
        "Good guess!\n",
        "\n",
        "**Guesses remaining:** 4  \n",
        "**Available letters:** bcdefghijklmnopqrstvwxyz  \n",
        "**Word:** \\_ a\\_ a\\_ a\n",
        "\n",
        "**Guess a letter:** p  \n",
        "Please enter a single letter.\n",
        "\n",
        "**Guesses remaining:** 4  \n",
        "**Available letters:** bcdefghijklmnopqrstvwxyz  \n",
        "**Word:** \\_ a\\_ a\\_ a\n",
        "\n",
        "**Guess a letter:** b  \n",
        "Good guess!\n",
        "\n",
        "**Guesses remaining:** 4  \n",
        "**Available letters:** cdefghijklmnopqrstvwxyz  \n",
        "**Word:** ba\\_ a\\_ a\n",
        "\n",
        "**Guess a letter:** n  \n",
        "Good guess!\n",
        "\n",
        "Congratulations! You've guessed the word: banana  \n",
        "Your score: 12\n"
      ]
    },
    {
      "cell_type": "markdown",
      "id": "3b226e3c",
      "metadata": {
        "id": "3b226e3c"
      },
      "source": [
        "# Demo Game 2"
      ]
    },
    {
      "cell_type": "markdown",
      "id": "56806e75",
      "metadata": {
        "id": "56806e75"
      },
      "source": [
        "# Hangman Game\n",
        "\n",
        "Welcome to Hangman!\n",
        "The word has 6 letters.\n",
        "\n",
        "**Guesses remaining:** 6  \n",
        "**Available letters:** abcdefghijklmnopqrstuvwxyz  \n",
        "**Word:** \\_ \\_ \\_ \\_ \\_ \\_\n",
        "\n",
        "**Guess a letter:** h  \n",
        "Incorrect guess.\n",
        "\n",
        "**Guesses remaining:** 5  \n",
        "**Available letters:** abcdefgijklmnopqrstuvwxyz  \n",
        "**Word:** \\_ \\_ \\_ \\_ \\_ \\_\n",
        "\n",
        "**Guess a letter:** w  \n",
        "Incorrect guess.\n",
        "\n",
        "**Guesses remaining:** 4  \n",
        "**Available letters:** abcdefgijklmnopqrstuvxyz  \n",
        "**Word:** \\_ \\_ \\_ \\_ \\_ \\_\n",
        "\n",
        "**Guess a letter:** k  \n",
        "Incorrect guess.\n",
        "\n",
        "**Guesses remaining:** 3  \n",
        "**Available letters:** abcdefgijlmnopqrstuvxyz  \n",
        "**Word:** \\_ \\_ \\_ \\_ \\_ \\_\n",
        "\n",
        "**Guess a letter:** d  \n",
        "Incorrect guess.\n",
        "\n",
        "**Guesses remaining:** 2  \n",
        "**Available letters:** abcefgijlmnopqrstuvxyz  \n",
        "**Word:** \\_ \\_ \\_ \\_ \\_ \\_\n",
        "\n",
        "**Guess a letter:** a  \n",
        "Good guess!\n",
        "\n",
        "**Guesses remaining:** 2  \n",
        "**Available letters:** bcefgijlmnopqrstuvxyz  \n",
        "**Word:** \\_ a\\_ a\\_ a\n",
        "\n",
        "**Guess a letter:** b  \n",
        "Good guess!\n",
        "\n",
        "**Guesses remaining:** 2  \n",
        "**Available letters:** cefgijlmnopqrstuvxyz  \n",
        "**Word:** ba_ a_ a\n",
        "\n",
        "**Guess a letter:** e  \n",
        "Incorrect guess.\n",
        "\n",
        "You've run out of guesses. The word was: banana\n"
      ]
    }
  ],
  "metadata": {
    "kernelspec": {
      "display_name": "Python 3 (ipykernel)",
      "language": "python",
      "name": "python3"
    },
    "language_info": {
      "codemirror_mode": {
        "name": "ipython",
        "version": 3
      },
      "file_extension": ".py",
      "mimetype": "text/x-python",
      "name": "python",
      "nbconvert_exporter": "python",
      "pygments_lexer": "ipython3",
      "version": "3.9.7"
    },
    "colab": {
      "provenance": []
    }
  },
  "nbformat": 4,
  "nbformat_minor": 5
}